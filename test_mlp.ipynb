{
 "cells": [
  {
   "cell_type": "code",
   "execution_count": 16,
   "metadata": {
    "collapsed": true
   },
   "outputs": [],
   "source": [
    "%matplotlib inline\n",
    "import numpy as np\n",
    "import matplotlib.pyplot as plt\n",
    "import pandas\n",
    "import pandas as pd\n",
    "from IPython.display import display, HTML"
   ]
  },
  {
   "cell_type": "code",
   "execution_count": 17,
   "metadata": {
    "collapsed": true
   },
   "outputs": [],
   "source": [
    "# Critere de performance\n",
    "def compute_pred_score(y_true, y_pred):\n",
    "    y_pred_unq =  np.unique(y_pred)\n",
    "    for i in y_pred_unq:\n",
    "        if((i != -1) & (i!= 1) & (i!= 0) ):\n",
    "            raise ValueError('The predictions can contain only -1, 1, or 0!')\n",
    "    y_comp = y_true * y_pred\n",
    "    score = float(10*np.sum(y_comp == -1) + np.sum(y_comp == 0))\n",
    "    score /= y_comp.shape[0]\n",
    "    return score"
   ]
  },
  {
   "cell_type": "code",
   "execution_count": 18,
   "metadata": {
    "collapsed": false
   },
   "outputs": [
    {
     "name": "stdout",
     "output_type": "stream",
     "text": [
      "(105600, 128)\n",
      "(105600,)\n",
      "(8496, 128)\n"
     ]
    }
   ],
   "source": [
    "X_train_fname = 'training_templates.csv'\n",
    "y_train_fname = 'training_labels.txt'\n",
    "X_test_fname  = 'testing_templates.csv'\n",
    "y_train = np.loadtxt(y_train_fname, dtype=np.int)\n",
    "X_train = pd.read_csv(X_train_fname, sep=',', header=None).values\n",
    "X_test  = pd.read_csv(X_test_fname,  sep=',', header=None).values\n",
    "print X_train.shape\n",
    "print y_train.shape\n",
    "print X_test.shape"
   ]
  },
  {
   "cell_type": "markdown",
   "metadata": {},
   "source": [
    "### Preprocessing"
   ]
  },
  {
   "cell_type": "code",
   "execution_count": 19,
   "metadata": {
    "collapsed": false
   },
   "outputs": [],
   "source": [
    "# def reject_outliers(data, result, m=2):\n",
    "#     return data[abs(data - np.mean(data)) < m * np.std(data)],result[abs(data - np.mean(data)) < m * np.std(data)]\n",
    "# X_outliers, y_outliers = reject_outliers(X_train, y_train)\n",
    "# print X_outliers.shape\n",
    "# print y_outliers.shape"
   ]
  },
  {
   "cell_type": "code",
   "execution_count": 32,
   "metadata": {
    "collapsed": false
   },
   "outputs": [
    {
     "name": "stdout",
     "output_type": "stream",
     "text": [
      "(97152, 115) (97152,)\n",
      "(8448, 115) (8448,)\n",
      "0.0\n"
     ]
    }
   ],
   "source": [
    "# KNN\n",
    "from sklearn.neighbors import NearestNeighbors\n",
    "\n",
    "# Standardization\n",
    "from sklearn.preprocessing import StandardScaler\n",
    "stdsc = StandardScaler()\n",
    "X_train_std = stdsc.fit_transform(X_train)\n",
    "X_test_std = stdsc.transform(X_test)\n",
    "\n",
    "# Feature selection\n",
    "from sklearn.feature_selection import SelectKBest\n",
    "from sklearn.feature_selection import mutual_info_classif\n",
    "SKB = SelectKBest(mutual_info_classif, k=115)\n",
    "X_train_skb = SKB.fit_transform(X_train_std, y_train)\n",
    "X_test_skb = SKB.transform(X_test_std)\n",
    "\n",
    "# PCA\n",
    "from sklearn.decomposition import PCA\n",
    "pca = PCA(n_components=115, whiten=True)\n",
    "X_train_pca = pca.fit_transform(X_train_skb)\n",
    "X_test_pca = pca.transform(X_test_skb)\n",
    "\n",
    "# split data into train and test sets\n",
    "from sklearn.cross_validation import train_test_split\n",
    "seed = 0\n",
    "test_size = 0.08\n",
    "X_train_split, X_test_split, y_train_split, y_test_split = train_test_split(X_train_pca, y_train, \n",
    "                                                                test_size=test_size, random_state=seed, stratify=y_train)\n",
    "print X_train_split.shape, y_train_split.shape\n",
    "print X_test_split.shape, y_test_split.shape\n",
    "print np.mean(y_train_split)"
   ]
  },
  {
   "cell_type": "markdown",
   "metadata": {},
   "source": [
    "### Training"
   ]
  },
  {
   "cell_type": "code",
   "execution_count": 33,
   "metadata": {
    "collapsed": true
   },
   "outputs": [],
   "source": [
    "# -1 ? 0 ? 1\n",
    "def predict(y_predict_proba, threshold=0.86):\n",
    "    y_predict = np.zeros((len(y_predict_proba)), dtype=np.int)\n",
    "    y_diff = np.add(y_predict_proba[:,1], -y_predict_proba[:,0])\n",
    "    y_predict = np.piecewise(y_diff,[y_diff<(-threshold),y_diff>threshold],[-1,1]).astype(int)\n",
    "    return y_predict"
   ]
  },
  {
   "cell_type": "markdown",
   "metadata": {},
   "source": [
    "### MLP"
   ]
  },
  {
   "cell_type": "code",
   "execution_count": 34,
   "metadata": {
    "collapsed": false
   },
   "outputs": [
    {
     "name": "stdout",
     "output_type": "stream",
     "text": [
      "Threshold 0.5 \t Score : 0.178858901515\n",
      "Threshold 0.51 \t Score : 0.178858901515\n",
      "Threshold 0.52 \t Score : 0.178148674242\n",
      "Threshold 0.53 \t Score : 0.177675189394\n",
      "Threshold 0.54 \t Score : 0.176728219697\n",
      "Threshold 0.55 \t Score : 0.176846590909\n",
      "Threshold 0.56 \t Score : 0.175071022727\n",
      "Threshold 0.57 \t Score : 0.175544507576\n",
      "Threshold 0.58 \t Score : 0.173650568182\n",
      "Threshold 0.59 \t Score : 0.169152462121\n",
      "Threshold 0.6 \t Score : 0.168323863636\n",
      "Threshold 0.61 \t Score : 0.167140151515\n",
      "Threshold 0.62 \t Score : 0.16631155303\n",
      "Threshold 0.63 \t Score : 0.164299242424\n",
      "Threshold 0.64 \t Score : 0.163707386364\n",
      "Threshold 0.65 \t Score : 0.16181344697\n",
      "Threshold 0.66 \t Score : 0.159919507576\n",
      "Threshold 0.67 \t Score : 0.160511363636\n",
      "Threshold 0.68 \t Score : 0.161221590909\n",
      "Threshold 0.69 \t Score : 0.159446022727\n",
      "Threshold 0.7 \t Score : 0.15790719697\n",
      "Threshold 0.71 \t Score : 0.15849905303\n",
      "Threshold 0.72 \t Score : 0.157078598485\n",
      "Threshold 0.73 \t Score : 0.154474431818\n",
      "Threshold 0.74 \t Score : 0.154237689394\n",
      "Threshold 0.75 \t Score : 0.149621212121\n",
      "Threshold 0.76 \t Score : 0.147017045455\n",
      "Threshold 0.77 \t Score : 0.146543560606\n",
      "Threshold 0.78 \t Score : 0.14287405303\n",
      "Threshold 0.79 \t Score : 0.140743371212\n",
      "Threshold 0.8 \t Score : 0.140980113636\n",
      "Threshold 0.81 \t Score : 0.141927083333\n",
      "Threshold 0.82 \t Score : 0.141098484848\n",
      "Threshold 0.83 \t Score : 0.141808712121\n",
      "Threshold 0.84 \t Score : 0.141453598485\n",
      "Threshold 0.85 \t Score : 0.140625\n",
      "Threshold 0.86 \t Score : 0.141216856061\n",
      "Threshold 0.87 \t Score : 0.137073863636\n",
      "Threshold 0.88 \t Score : 0.136245265152\n",
      "Threshold 0.89 \t Score : 0.132575757576\n",
      "Threshold 0.9 \t Score : 0.130800189394\n",
      "Threshold 0.91 \t Score : 0.127130681818\n",
      "Threshold 0.92 \t Score : 0.126302083333\n",
      "Threshold 0.93 \t Score : 0.125\n",
      "Threshold 0.94 \t Score : 0.126065340909\n",
      "Threshold 0.95 \t Score : 0.126538825758\n",
      "Threshold 0.96 \t Score : 0.122277462121\n",
      "Threshold 0.97 \t Score : 0.123224431818\n",
      "Threshold 0.98 \t Score : 0.125355113636\n",
      "Threshold 0.99 \t Score : 0.139322916667\n",
      "Score sur le train : 0.122277462121\n",
      "Running Time:  35.629224\n"
     ]
    }
   ],
   "source": [
    "import time\n",
    "start = time.clock()\n",
    "from sklearn.neural_network import MLPClassifier\n",
    "clf = MLPClassifier(solver='lbfgs', alpha=1e-4, hidden_layer_sizes=(20,5,2), random_state=1)\n",
    "clf.fit(X_train_split, y_train_split)\n",
    "y_inter = clf.predict_proba(X_test_split)\n",
    "\n",
    "# To select a best Threshold:\n",
    "score_min = 1\n",
    "threshold = 0.7\n",
    "for x in np.linspace(0.5, 0.99, num=50):\n",
    "    y_pred_train = predict(y_inter,x)\n",
    "    score = compute_pred_score(y_test_split, y_pred_train)\n",
    "    if score < score_min:\n",
    "        score_min = score\n",
    "        threshold = x\n",
    "    print('Threshold %s \\t Score : %s' %(x,score))\n",
    "\n",
    "# Play with the best threshold\n",
    "y_pred_train = predict(y_inter,threshold)\n",
    "score = compute_pred_score(y_test_split, y_pred_train)\n",
    "print('Score sur le train : %s' % score)\n",
    "end = time.clock()\n",
    "print \"Running Time: \",end-start"
   ]
  },
  {
   "cell_type": "code",
   "execution_count": null,
   "metadata": {
    "collapsed": true
   },
   "outputs": [],
   "source": [
    "import time\n",
    "start = time.clock()\n",
    "from sklearn.neural_network import MLPClassifier\n",
    "clf = MLPClassifier(solver='lbfgs', alpha=1e-4, hidden_layer_sizes=(20,5,2), random_state=1)\n",
    "clf.fit(X_train_pca, y_train)\n",
    "y_inter = clf.predict_proba(X_test_pca)\n",
    "\n",
    "# Play with the best threshold\n",
    "y_pred_train = predict(y_inter,threshold)\n",
    "y_pred = predict(y_inter,0.6)\n",
    "np.savetxt('y_pred.txt', y_pred, fmt='%d')\n",
    "end = time.clock()\n",
    "print \"Running Time: \",end-start"
   ]
  },
  {
   "cell_type": "markdown",
   "metadata": {},
   "source": [
    "### Bagging"
   ]
  },
  {
   "cell_type": "code",
   "execution_count": 13,
   "metadata": {
    "collapsed": false
   },
   "outputs": [
    {
     "name": "stdout",
     "output_type": "stream",
     "text": [
      "Threshold 0.5 \t Score : 0.0864109848485\n",
      "Threshold 0.51 \t Score : 0.0862926136364\n",
      "Threshold 0.52 \t Score : 0.086884469697\n",
      "Threshold 0.53 \t Score : 0.0873579545455\n",
      "Threshold 0.54 \t Score : 0.0871212121212\n",
      "Threshold 0.55 \t Score : 0.0845170454545\n",
      "Threshold 0.56 \t Score : 0.0857007575758\n",
      "Threshold 0.57 \t Score : 0.0848721590909\n",
      "Threshold 0.58 \t Score : 0.0817945075758\n",
      "Threshold 0.59 \t Score : 0.0828598484848\n",
      "Threshold 0.6 \t Score : 0.0814393939394\n",
      "Threshold 0.61 \t Score : 0.0813210227273\n",
      "Threshold 0.62 \t Score : 0.0800189393939\n",
      "Threshold 0.63 \t Score : 0.0801373106061\n",
      "Threshold 0.64 \t Score : 0.0813210227273\n",
      "Threshold 0.65 \t Score : 0.0826231060606\n",
      "Threshold 0.66 \t Score : 0.0840435606061\n",
      "Threshold 0.67 \t Score : 0.0825047348485\n",
      "Threshold 0.68 \t Score : 0.0833333333333\n",
      "Threshold 0.69 \t Score : 0.0823863636364\n",
      "Threshold 0.7 \t Score : 0.0830965909091\n",
      "Threshold 0.71 \t Score : 0.0864109848485\n",
      "Threshold 0.72 \t Score : 0.0881865530303\n",
      "Threshold 0.73 \t Score : 0.0892518939394\n",
      "Threshold 0.74 \t Score : 0.0897253787879\n",
      "Threshold 0.75 \t Score : 0.0919744318182\n",
      "Threshold 0.76 \t Score : 0.0943418560606\n",
      "Threshold 0.77 \t Score : 0.0975378787879\n",
      "Threshold 0.78 \t Score : 0.0990767045455\n",
      "Threshold 0.79 \t Score : 0.100378787879\n",
      "Threshold 0.8 \t Score : 0.102627840909\n",
      "Threshold 0.81 \t Score : 0.106415719697\n",
      "Threshold 0.82 \t Score : 0.110085227273\n",
      "Threshold 0.83 \t Score : 0.111505681818\n",
      "Threshold 0.84 \t Score : 0.114701704545\n",
      "Threshold 0.85 \t Score : 0.120028409091\n",
      "Threshold 0.86 \t Score : 0.124171401515\n",
      "Threshold 0.87 \t Score : 0.131036931818\n",
      "Threshold 0.88 \t Score : 0.136245265152\n",
      "Threshold 0.89 \t Score : 0.141335227273\n",
      "Threshold 0.9 \t Score : 0.148555871212\n",
      "Threshold 0.91 \t Score : 0.157433712121\n",
      "Threshold 0.92 \t Score : 0.173413825758\n",
      "Threshold 0.93 \t Score : 0.198390151515\n",
      "Threshold 0.94 \t Score : 0.205847537879\n",
      "Threshold 0.95 \t Score : 0.217211174242\n",
      "Threshold 0.96 \t Score : 0.240767045455\n",
      "Threshold 0.97 \t Score : 0.305397727273\n",
      "Threshold 0.98 \t Score : 1.0\n",
      "Threshold 0.99 \t Score : 1.0\n",
      "Score sur le train : 0.0800189393939\n",
      "Running Time:  1351.955406\n"
     ]
    }
   ],
   "source": [
    "import time\n",
    "start = time.clock()\n",
    "from sklearn.neural_network import MLPClassifier\n",
    "from sklearn.ensemble import BaggingClassifier\n",
    "n_estimators = 40\n",
    "# clf = MLPClassifier(solver='lbfgs', alpha=1e-4, hidden_layer_sizes=(20,5,2), random_state=1)\n",
    "# clf.fit(X_train_split, y_train_split)\n",
    "bagging = BaggingClassifier(base_estimator=MLPClassifier(solver='lbfgs', alpha=1e-4, hidden_layer_sizes=(20,5,2), random_state=27),\n",
    "                           n_estimators=n_estimators,\n",
    "                           random_state=1, max_samples=0.8)\n",
    "bagging.fit(X_train_split, y_train_split)\n",
    "y_inter = bagging.predict_proba(X_test_split)\n",
    "\n",
    "# To select a best Threshold:\n",
    "score_min = 1\n",
    "threshold = 0.7\n",
    "for x in np.linspace(0.5, 0.99, num=50):\n",
    "    y_pred_train = predict(y_inter,x)\n",
    "    score = compute_pred_score(y_test_split, y_pred_train)\n",
    "    if score < score_min:\n",
    "        score_min = score\n",
    "        threshold = x\n",
    "    print('Threshold %s \\t Score : %s' %(x,score))\n",
    "\n",
    "# Play with the best threshold\n",
    "y_pred_train = predict(y_inter,threshold)\n",
    "score = compute_pred_score(y_test_split, y_pred_train)\n",
    "print('Score sur le train : %s' % score)\n",
    "end = time.clock()\n",
    "print \"Running Time: \",end-start"
   ]
  },
  {
   "cell_type": "code",
   "execution_count": 14,
   "metadata": {
    "collapsed": false
   },
   "outputs": [
    {
     "name": "stdout",
     "output_type": "stream",
     "text": [
      "Running Time:  1604.565103\n"
     ]
    }
   ],
   "source": [
    "import time\n",
    "start = time.clock()\n",
    "from sklearn.neural_network import MLPClassifier\n",
    "from sklearn.ensemble import BaggingClassifier\n",
    "n_estimators = 40\n",
    "clf = MLPClassifier(solver='lbfgs', alpha=1e-4, hidden_layer_sizes=(20,5,2), random_state=1)\n",
    "clf.fit(X_train_pca, y_train)\n",
    "bagging = BaggingClassifier(base_estimator=clf,\n",
    "                           n_estimators=n_estimators,\n",
    "                           random_state=1, max_samples=0.8)\n",
    "bagging.fit(X_train_pca, y_train)\n",
    "y_inter = bagging.predict_proba(X_test_pca)\n",
    "\n",
    "# Play with the best threshold\n",
    "y_pred_train = predict(y_inter,threshold)\n",
    "y_pred = predict(y_inter,0.62)\n",
    "np.savetxt('y_pred_bagging.txt', y_pred, fmt='%d')\n",
    "end = time.clock()\n",
    "print \"Running Time: \",end-start"
   ]
  },
  {
   "cell_type": "code",
   "execution_count": null,
   "metadata": {
    "collapsed": true
   },
   "outputs": [],
   "source": []
  }
 ],
 "metadata": {
  "kernelspec": {
   "display_name": "Python 2",
   "language": "python",
   "name": "python2"
  },
  "language_info": {
   "codemirror_mode": {
    "name": "ipython",
    "version": 2
   },
   "file_extension": ".py",
   "mimetype": "text/x-python",
   "name": "python",
   "nbconvert_exporter": "python",
   "pygments_lexer": "ipython2",
   "version": "2.7.13"
  }
 },
 "nbformat": 4,
 "nbformat_minor": 2
}
