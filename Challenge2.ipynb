{
 "cells": [
  {
   "cell_type": "markdown",
   "metadata": {},
   "source": [
    "# Challenge"
   ]
  },
  {
   "cell_type": "markdown",
   "metadata": {},
   "source": [
    "### By - LI Yanting"
   ]
  },
  {
   "cell_type": "markdown",
   "metadata": {},
   "source": [
    "## 1. Load data"
   ]
  },
  {
   "cell_type": "code",
   "execution_count": 1,
   "metadata": {
    "collapsed": true
   },
   "outputs": [],
   "source": [
    "%matplotlib inline\n",
    "import numpy as np\n",
    "import matplotlib.pyplot as plt\n",
    "import pandas as pd\n",
    "from IPython.display import display, HTML"
   ]
  },
  {
   "cell_type": "code",
   "execution_count": 2,
   "metadata": {
    "collapsed": true
   },
   "outputs": [],
   "source": [
    "# Critere de performance\n",
    "def compute_pred_score(y_true, y_pred):\n",
    "    y_pred_unq =  np.unique(y_pred)\n",
    "    for i in y_pred_unq:\n",
    "        if((i != -1) & (i!= 1) & (i!= 0) ):\n",
    "            raise ValueError('The predictions can contain only -1, 1, or 0!')\n",
    "    y_comp = y_true * y_pred\n",
    "    score = float(10*np.sum(y_comp == -1) + np.sum(y_comp == 0))\n",
    "    score /= y_comp.shape[0]\n",
    "    return score"
   ]
  },
  {
   "cell_type": "code",
   "execution_count": 3,
   "metadata": {
    "collapsed": true
   },
   "outputs": [],
   "source": [
    "X_train_fname = 'training_templates.csv'\n",
    "y_train_fname = 'training_labels.txt'\n",
    "X_test_fname  = 'testing_templates.csv'\n",
    "y_train = np.loadtxt(y_train_fname, dtype=np.int)\n",
    "X_train = pd.read_csv(X_train_fname, sep=',', header=None).values\n",
    "X_test  = pd.read_csv(X_test_fname,  sep=',', header=None).values"
   ]
  },
  {
   "cell_type": "markdown",
   "metadata": {},
   "source": [
    "## 2. Data Preprocessing"
   ]
  },
  {
   "cell_type": "markdown",
   "metadata": {},
   "source": [
    "Data preprocessing is necessary to build a good training set. In general, this step should include sample selection and feature selection. In sample selection, some outlier data should be removed from the training set; In feature selection, some \"bad\" features should not be considered in order to dicrease the dim of the data. If the model gives all features the same importance, it will lead to over-fitting, the generalization ability of unknown data will be poor."
   ]
  },
  {
   "cell_type": "markdown",
   "metadata": {},
   "source": [
    "### 2-1 Standardization"
   ]
  },
  {
   "cell_type": "code",
   "execution_count": 36,
   "metadata": {
    "collapsed": true
   },
   "outputs": [],
   "source": [
    "# Standardization\n",
    "from sklearn.preprocessing import StandardScaler\n",
    "stdsc = StandardScaler()\n",
    "X_train_std = stdsc.fit_transform(X_train)\n",
    "X_test_std = stdsc.transform(X_test)"
   ]
  },
  {
   "cell_type": "markdown",
   "metadata": {},
   "source": [
    "### 2-2 Processing Samples with KNN"
   ]
  },
  {
   "cell_type": "markdown",
   "metadata": {},
   "source": [
    "This step is to select the training samples more likely to test set:\n",
    "For each sample in the test dataset, we select 50 nearest samples from the original training set to generate a new training set. (After an 'unique' operation, this new training set contains about 90000 samples.) "
   ]
  },
  {
   "cell_type": "code",
   "execution_count": 19,
   "metadata": {
    "collapsed": false
   },
   "outputs": [
    {
     "name": "stdout",
     "output_type": "stream",
     "text": [
      "NearestNeighbors(algorithm='ball_tree', leaf_size=30, metric='minkowski',\n",
      "         metric_params=None, n_jobs=1, n_neighbors=30, p=2, radius=1.0)\n",
      "X_train_unique Shape:  (73596, 128)\n",
      "y_train_unique Shape:  (73596,)\n"
     ]
    }
   ],
   "source": [
    "# Sample Selection: KNN\n",
    "from sklearn.neighbors import NearestNeighbors\n",
    "nbrs = NearestNeighbors(n_neighbors=50, algorithm='ball_tree').fit(X_train_std)\n",
    "distances, indices = nbrs.kneighbors(X_test_std)\n",
    "new_indices = np.ravel(indices)\n",
    "uni_indices = np.unique(indices)\n",
    "print nbrs\n",
    "X_train_unique = X_train_std[uni_indices]\n",
    "y_train_unique = y_train[uni_indices]\n",
    "print \"X_train_unique Shape: \", X_train_unique.shape\n",
    "print \"y_train_unique Shape: \", y_train_unique.shape\n",
    "# Save new train set: X_train_unique and y_trian_unique\n",
    "np.savetxt(\"X_train_unique_50.csv\", X_train_unique, fmt='%.6e', delimiter=',')\n",
    "np.savetxt(\"y_train_unique_50.txt\", y_train_unique, fmt='%d')"
   ]
  },
  {
   "cell_type": "markdown",
   "metadata": {},
   "source": [
    "### 2-3 Processing Features with PCA"
   ]
  },
  {
   "cell_type": "markdown",
   "metadata": {},
   "source": [
    "This step should contain two parts: \n",
    "- select \"good\" features\n",
    "- PCA\n",
    "\n",
    "For feature selection, sklearn.SelectKBest and xgboost.plot_importance have been tried, but unfortunately, in SelectKBest, after trying all three types of function(chi2, mutual_info_classif and f_classif), there isn't a better result; there also remains some problems with xgboost.plot_importance to solve. Therefore, this part remains a feature selection to be completed.\n",
    "\n",
    "For the parameters in PCA, the purpose of whitening is to keep several eigenvalues of the output independent of each other. Svd_sover 'auto' could choose automaticly a solver most suitable for current situation."
   ]
  },
  {
   "cell_type": "code",
   "execution_count": 42,
   "metadata": {
    "collapsed": true
   },
   "outputs": [],
   "source": [
    "# PCA\n",
    "from sklearn.decomposition import PCA\n",
    "pca = PCA(n_components=128, whiten=True, svd_solver='auto')\n",
    "X_train_pca = pca.fit_transform(X_train_unique)\n",
    "X_test_pca = pca.transform(X_test_std)"
   ]
  },
  {
   "cell_type": "markdown",
   "metadata": {},
   "source": [
    "For training a model and getting a evaluation of the model, the training set is splitted into X_train_split and X_test_split with a test_size of 0.2. For a large training set, this test_size could be smaller as 0.05 or even less, but in order to ensure enough test data to evaluate the model, here 20% of the data is chosen to be test set."
   ]
  },
  {
   "cell_type": "code",
   "execution_count": 43,
   "metadata": {
    "collapsed": false
   },
   "outputs": [
    {
     "name": "stdout",
     "output_type": "stream",
     "text": [
      "(70218, 128) (70218,)\n",
      "(17555, 128) (17555,)\n",
      "0.0793528724828\n"
     ]
    }
   ],
   "source": [
    "# split data into train and test sets\n",
    "from sklearn.cross_validation import train_test_split\n",
    "seed = 0\n",
    "test_size = 0.2\n",
    "X_train_split, X_test_split, y_train_split, y_test_split = train_test_split(X_train_pca, y_train_unique, \n",
    "                                                                test_size=test_size, random_state=seed)\n",
    "print X_train_split.shape, y_train_split.shape\n",
    "print X_test_split.shape, y_test_split.shape\n",
    "print np.mean(y_train_split)"
   ]
  },
  {
   "cell_type": "markdown",
   "metadata": {
    "collapsed": true
   },
   "source": [
    "## 3. Training"
   ]
  },
  {
   "cell_type": "markdown",
   "metadata": {},
   "source": [
    "This function is to judge when it should return 0 as an uncertainty. The parameter threshold means the difference between the classification result with a higher probability and the one with a lower probability. In next step, a best threshold is searched from 0 to 0.99 to ensure that the general score to be almost the highest."
   ]
  },
  {
   "cell_type": "code",
   "execution_count": 21,
   "metadata": {
    "collapsed": true
   },
   "outputs": [],
   "source": [
    "def predict(y_predict_proba, threshold=0.54):\n",
    "    y_predict = np.zeros((len(y_predict_proba)), dtype=np.int)\n",
    "    y_diff = np.add(y_predict_proba[:,1], -y_predict_proba[:,0])\n",
    "    y_predict = np.piecewise(y_diff,[y_diff<(-threshold),y_diff>threshold],[-1,1]).astype(int)\n",
    "    return y_predict"
   ]
  },
  {
   "cell_type": "markdown",
   "metadata": {},
   "source": [
    "### 3-1 Bagging with MLP"
   ]
  },
  {
   "cell_type": "markdown",
   "metadata": {},
   "source": [
    "After trying single MLP, SVC, xgboost classifier, Random Forest and Bagging with MLP, the last model is chosen according to their testing score. An obstacle here is the tune of xgboost. In theory, xgboost should give a good performance but it takes too much time to tune and here remains some work to explore.\n",
    "\n",
    "For Bagging with MLP, it is difficult to find a relationship between the hidden_layer_sizes and the performance, but 2 layer is enough. n_estimators could be relatively large as 40 to give a more 'correct' result of classification. Max_samples and max_features could be relatively small to avoid over-fitting."
   ]
  },
  {
   "cell_type": "code",
   "execution_count": 44,
   "metadata": {
    "collapsed": false
   },
   "outputs": [
    {
     "name": "stdout",
     "output_type": "stream",
     "text": [
      "Running Time:  1.754916\n"
     ]
    }
   ],
   "source": [
    "import time\n",
    "start = time.clock()\n",
    "from sklearn.neural_network import MLPClassifier\n",
    "from sklearn.ensemble import BaggingClassifier\n",
    "n_estimators = 40\n",
    "bagging = BaggingClassifier(base_estimator=MLPClassifier(solver='lbfgs', alpha=1e-4, \n",
    "                                                         hidden_layer_sizes=(200,200), random_state=27),\n",
    "                           n_estimators=n_estimators, max_samples=0.62, max_features=0.62, n_jobs=-1)\n",
    "bagging.fit(X_train_split, y_train_split)\n",
    "y_inter = bagging.predict_proba(X_test_split)\n",
    "end = time.clock()\n",
    "print \"Running Time: \",end-start"
   ]
  },
  {
   "cell_type": "code",
   "execution_count": 45,
   "metadata": {
    "collapsed": false
   },
   "outputs": [
    {
     "data": {
      "image/png": "[encoded data removed]",
      "text/plain": [
       "<matplotlib.figure.Figure at 0x12011e6d0>"
      ]
     },
     "metadata": {},
     "output_type": "display_data"
    },
    {
     "name": "stdout",
     "output_type": "stream",
     "text": [
      "Score sur le train : 0.102363998861\n"
     ]
    }
   ],
   "source": [
    "# To select a best Threshold:\n",
    "score_min = 1\n",
    "threshold = 0.7\n",
    "score = np.zeros(100)\n",
    "i=0\n",
    "plt.figure()\n",
    "for x in np.linspace(0, 0.99, num=100):\n",
    "    y_pred_train = predict(y_inter,x)\n",
    "    score[i] = compute_pred_score(y_test_split, y_pred_train)\n",
    "    if score[i] < score_min:\n",
    "        score_min = score[i]\n",
    "        threshold = x\n",
    "#     print('Threshold %s \\t Score : %s' %(x,score[i]))\n",
    "    i=i+1\n",
    "plt.plot(np.linspace(0, 0.99, num=100),score)\n",
    "plt.title('Score with threshold')\n",
    "plt.show()\n",
    "\n",
    "# Play with the best threshold\n",
    "y_pred_train = predict(y_inter,threshold)\n",
    "score = compute_pred_score(y_test_split, y_pred_train)\n",
    "print('Score sur le train : %s' % score)"
   ]
  },
  {
   "cell_type": "markdown",
   "metadata": {},
   "source": [
    "### 3-2 Play with the 'real data'"
   ]
  },
  {
   "cell_type": "markdown",
   "metadata": {},
   "source": [
    "After training a model, here we use all the selected samples in the training set to train a new model for predicting. And then predict the X_test after this test set being processed with the previous steps."
   ]
  },
  {
   "cell_type": "code",
   "execution_count": 30,
   "metadata": {
    "collapsed": false
   },
   "outputs": [
    {
     "name": "stdout",
     "output_type": "stream",
     "text": [
      "Running Time:  1.90521\n"
     ]
    }
   ],
   "source": [
    "import time\n",
    "start = time.clock()\n",
    "from sklearn.neural_network import MLPClassifier\n",
    "from sklearn.ensemble import BaggingClassifier\n",
    "n_estimators = 40\n",
    "bagging = BaggingClassifier(base_estimator=MLPClassifier(solver='lbfgs', alpha=1e-4, \n",
    "                                                         hidden_layer_sizes=(200,200), random_state=27),\n",
    "                           n_estimators=n_estimators, max_samples=0.62, max_features=0.62, n_jobs=-1)\n",
    "bagging.fit(X_train_pca, y_train_unique)\n",
    "y_inter = bagging.predict_proba(X_test_pca)\n",
    "\n",
    "# Play with the best threshold\n",
    "y_pred = predict(y_inter,0.45)\n",
    "np.savetxt('y_pred_bagging.txt', y_pred, fmt='%d')\n",
    "end = time.clock()\n",
    "print \"Running Time: \",end-start"
   ]
  }
 ],
 "metadata": {
  "kernelspec": {
   "display_name": "Python 2",
   "language": "python",
   "name": "python2"
  },
  "language_info": {
   "codemirror_mode": {
    "name": "ipython",
    "version": 2
   },
   "file_extension": ".py",
   "mimetype": "text/x-python",
   "name": "python",
   "nbconvert_exporter": "python",
   "pygments_lexer": "ipython2",
   "version": "2.7.13"
  }
 },
 "nbformat": 4,
 "nbformat_minor": 2
}
