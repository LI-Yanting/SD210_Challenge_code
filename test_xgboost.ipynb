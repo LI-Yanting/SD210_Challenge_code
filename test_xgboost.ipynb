{
 "cells": [
  {
   "cell_type": "code",
   "execution_count": 6,
   "metadata": {
    "collapsed": true
   },
   "outputs": [],
   "source": [
    "%matplotlib inline\n",
    "import numpy as np\n",
    "import matplotlib.pyplot as plt\n",
    "import pandas\n",
    "import pandas as pd\n",
    "from IPython.display import display, HTML"
   ]
  },
  {
   "cell_type": "code",
   "execution_count": 7,
   "metadata": {
    "collapsed": true
   },
   "outputs": [],
   "source": [
    "# Critere de performance\n",
    "def compute_pred_score(y_true, y_pred):\n",
    "    y_pred_unq =  np.unique(y_pred)\n",
    "    for i in y_pred_unq:\n",
    "        if((i != -1) & (i!= 1) & (i!= 0) ):\n",
    "            raise ValueError('The predictions can contain only -1, 1, or 0!')\n",
    "    y_comp = y_true * y_pred\n",
    "    score = float(10*np.sum(y_comp == -1) + np.sum(y_comp == 0))\n",
    "    score /= y_comp.shape[0]\n",
    "    return score"
   ]
  },
  {
   "cell_type": "code",
   "execution_count": 8,
   "metadata": {
    "collapsed": false
   },
   "outputs": [
    {
     "name": "stdout",
     "output_type": "stream",
     "text": [
      "(105600, 128)\n",
      "(105600,)\n",
      "(8496, 128)\n"
     ]
    }
   ],
   "source": [
    "X_train_fname = 'training_templates.csv'\n",
    "y_train_fname = 'training_labels.txt'\n",
    "X_test_fname  = 'testing_templates.csv'\n",
    "y_train = np.loadtxt(y_train_fname, dtype=np.int)\n",
    "X_train = pd.read_csv(X_train_fname, sep=',', header=None).values\n",
    "X_test  = pd.read_csv(X_test_fname,  sep=',', header=None).values\n",
    "print X_train.shape\n",
    "print y_train.shape\n",
    "print X_test.shape"
   ]
  },
  {
   "cell_type": "markdown",
   "metadata": {},
   "source": [
    "### Preprocessing"
   ]
  },
  {
   "cell_type": "code",
   "execution_count": 24,
   "metadata": {
    "collapsed": false
   },
   "outputs": [
    {
     "name": "stdout",
     "output_type": "stream",
     "text": [
      " NearestNeighbors(algorithm='ball_tree', leaf_size=30, metric='minkowski',\n",
      "         metric_params=None, n_jobs=1, n_neighbors=60, p=2, radius=1.0)\n",
      "X_train_repeat Shape:  (509760, 128)\n",
      "y_train_repeat Shape:  (509760,)\n",
      "X_train_unique Shape:  (91921, 128)\n",
      "y_train_unique Shape:  (91921,)\n",
      "(73536, 128) (73536,)\n",
      "(18385, 128) (18385,)\n",
      "0.0632071366406\n"
     ]
    }
   ],
   "source": [
    "# Standardization\n",
    "from sklearn.preprocessing import StandardScaler\n",
    "stdsc = StandardScaler()\n",
    "X_train_std = stdsc.fit_transform(X_train)\n",
    "X_test_std = stdsc.transform(X_test)\n",
    "\n",
    "# Sample Selection: KNN\n",
    "from sklearn.neighbors import NearestNeighbors\n",
    "nbrs = NearestNeighbors(n_neighbors=60, algorithm='ball_tree').fit(X_train_std)\n",
    "distances, indices = nbrs.kneighbors(X_test_std)\n",
    "new_indices = np.ravel(indices)\n",
    "uni_indices = np.unique(indices)\n",
    "print nbrs\n",
    "X_train_repeat = X_train_std[new_indices]\n",
    "y_train_repeat = y_train[new_indices]\n",
    "X_train_unique = X_train_std[uni_indices]\n",
    "y_train_unique = y_train[uni_indices]\n",
    "print \"X_train_repeat Shape: \", X_train_repeat.shape\n",
    "print \"y_train_repeat Shape: \", y_train_repeat.shape\n",
    "print \"X_train_unique Shape: \", X_train_unique.shape\n",
    "print \"y_train_unique Shape: \", y_train_unique.shape\n",
    "\n",
    "# PCA\n",
    "from sklearn.decomposition import PCA\n",
    "pca = PCA(n_components=128, whiten=True, svd_solver='auto')\n",
    "X_train_pca = pca.fit_transform(X_train_unique)\n",
    "X_test_pca = pca.transform(X_test_std)\n",
    "\n",
    "# split data into train and test sets\n",
    "from sklearn.cross_validation import train_test_split\n",
    "seed = 0\n",
    "test_size = 0.2\n",
    "X_train_split, X_test_split, y_train_split, y_test_split = train_test_split(X_train_pca, y_train_unique, \n",
    "                                                                test_size=test_size, random_state=seed)\n",
    "print X_train_split.shape, y_train_split.shape\n",
    "print X_test_split.shape, y_test_split.shape\n",
    "print np.mean(y_train_split)"
   ]
  },
  {
   "cell_type": "code",
   "execution_count": 27,
   "metadata": {
    "collapsed": false
   },
   "outputs": [
    {
     "name": "stdout",
     "output_type": "stream",
     "text": [
      "(73536, 128) (73536,)\n",
      "(18385, 128) (18385,)\n",
      "0.0632071366406\n"
     ]
    }
   ],
   "source": [
    "# split data into train and test sets\n",
    "from sklearn.cross_validation import train_test_split\n",
    "seed = 0\n",
    "test_size = 0.2\n",
    "X_train_split, X_test_split, y_train_split, y_test_split = train_test_split(X_train_pca, y_train_unique, \n",
    "                                                                test_size=test_size, random_state=seed)\n",
    "print X_train_split.shape, y_train_split.shape\n",
    "print X_test_split.shape, y_test_split.shape\n",
    "print np.mean(y_train_split)"
   ]
  },
  {
   "cell_type": "markdown",
   "metadata": {},
   "source": [
    "# 存数据！！！"
   ]
  },
  {
   "cell_type": "code",
   "execution_count": 25,
   "metadata": {
    "collapsed": true
   },
   "outputs": [],
   "source": [
    "np.savetxt(\"X_train_unique.csv\", X_train_unique, fmt='%.18e', delimiter=',')\n",
    "np.savetxt(\"y_train_unique.txt\", y_train_unique, fmt='%d')"
   ]
  },
  {
   "cell_type": "markdown",
   "metadata": {},
   "source": [
    "### Training"
   ]
  },
  {
   "cell_type": "code",
   "execution_count": 28,
   "metadata": {
    "collapsed": true
   },
   "outputs": [],
   "source": [
    "# -1 ? 0 ? 1\n",
    "def predict(y_predict_proba, threshold=0.86):\n",
    "    y_predict = np.zeros((len(y_predict_proba)), dtype=np.int)\n",
    "    y_diff = np.add(y_predict_proba[:,1], -y_predict_proba[:,0])\n",
    "    y_predict = np.piecewise(y_diff,[y_diff<(-threshold),y_diff>threshold],[-1,1]).astype(int)\n",
    "    return y_predict"
   ]
  },
  {
   "cell_type": "markdown",
   "metadata": {},
   "source": [
    "### xgboost"
   ]
  },
  {
   "cell_type": "code",
   "execution_count": 29,
   "metadata": {
    "collapsed": false
   },
   "outputs": [
    {
     "name": "stdout",
     "output_type": "stream",
     "text": [
      "Threshold 0.5 \t Score : 0.17623062279\n",
      "Threshold 0.51 \t Score : 0.174054936089\n",
      "Threshold 0.52 \t Score : 0.173619798749\n",
      "Threshold 0.53 \t Score : 0.173619798749\n",
      "Threshold 0.54 \t Score : 0.173402230079\n",
      "Threshold 0.55 \t Score : 0.172695131901\n",
      "Threshold 0.56 \t Score : 0.171879249388\n",
      "Threshold 0.57 \t Score : 0.170247484362\n",
      "Threshold 0.58 \t Score : 0.168343758499\n",
      "Threshold 0.59 \t Score : 0.167419091651\n",
      "Threshold 0.6 \t Score : 0.165406581452\n",
      "Threshold 0.61 \t Score : 0.164917051945\n",
      "Threshold 0.62 \t Score : 0.162578188741\n",
      "Threshold 0.63 \t Score : 0.161435953223\n",
      "Threshold 0.64 \t Score : 0.160239325537\n",
      "Threshold 0.65 \t Score : 0.158389991841\n",
      "Threshold 0.66 \t Score : 0.158607560511\n",
      "Threshold 0.67 \t Score : 0.156975795485\n",
      "Threshold 0.68 \t Score : 0.155615991297\n",
      "Threshold 0.69 \t Score : 0.154147402774\n",
      "Threshold 0.7 \t Score : 0.151210225727\n",
      "Threshold 0.71 \t Score : 0.150775088387\n",
      "Threshold 0.72 \t Score : 0.148436225184\n",
      "Threshold 0.73 \t Score : 0.148381833016\n",
      "Threshold 0.74 \t Score : 0.147457166168\n",
      "Threshold 0.75 \t Score : 0.145172695132\n",
      "Threshold 0.76 \t Score : 0.143704106609\n",
      "Threshold 0.77 \t Score : 0.142235518085\n",
      "Threshold 0.78 \t Score : 0.141419635572\n",
      "Threshold 0.79 \t Score : 0.139624694044\n",
      "Threshold 0.8 \t Score : 0.138591242861\n",
      "Threshold 0.81 \t Score : 0.137720968181\n",
      "Threshold 0.82 \t Score : 0.138591242861\n",
      "Threshold 0.83 \t Score : 0.137449007343\n",
      "Threshold 0.84 \t Score : 0.135926026652\n",
      "Threshold 0.85 \t Score : 0.135654065815\n",
      "Threshold 0.86 \t Score : 0.135110144139\n",
      "Threshold 0.87 \t Score : 0.134022300789\n",
      "Threshold 0.88 \t Score : 0.133695947784\n",
      "Threshold 0.89 \t Score : 0.134022300789\n",
      "Threshold 0.9 \t Score : 0.134348653794\n",
      "Threshold 0.91 \t Score : 0.133750339951\n",
      "Threshold 0.92 \t Score : 0.136034810987\n",
      "Threshold 0.93 \t Score : 0.134783791134\n",
      "Threshold 0.94 \t Score : 0.134457438129\n",
      "Threshold 0.95 \t Score : 0.136796301333\n",
      "Threshold 0.96 \t Score : 0.141745988578\n",
      "Threshold 0.97 \t Score : 0.147837911341\n",
      "Threshold 0.98 \t Score : 0.158281207506\n",
      "Threshold 0.99 \t Score : 0.181125917868\n"
     ]
    },
    {
     "data": {
      "image/png": "[encoded data removed]",
      "text/plain": [
       "<matplotlib.figure.Figure at 0x118a773d0>"
      ]
     },
     "metadata": {},
     "output_type": "display_data"
    },
    {
     "name": "stdout",
     "output_type": "stream",
     "text": [
      "Score sur le train : 0.133695947784\n",
      "Running Time:  1403.301607\n"
     ]
    }
   ],
   "source": [
    "import time\n",
    "start = time.clock()\n",
    "import xgboost as xgb\n",
    "from xgboost.sklearn import XGBClassifier\n",
    "clf = XGBClassifier(learning_rate =0.1,n_estimators=1000,max_depth=10,min_child_weight=1,gamma=0,subsample=0.8,\n",
    "                     colsample_bytree=0.8,objective= 'binary:logistic',nthread=4,scale_pos_weight=1,seed=27)\n",
    "clf.fit(X_train_split, y_train_split)\n",
    "y_inter = clf.predict_proba(X_test_split)\n",
    "\n",
    "# To select a best Threshold:\n",
    "score_min = 1\n",
    "threshold = 0.7\n",
    "score = np.zeros(50)\n",
    "i=0\n",
    "plt.figure()\n",
    "for x in np.linspace(0.5, 0.99, num=50):\n",
    "    y_pred_train = predict(y_inter,x)\n",
    "    score[i] = compute_pred_score(y_test_split, y_pred_train)\n",
    "    if score[i] < score_min:\n",
    "        score_min = score[i]\n",
    "        threshold = x\n",
    "    print('Threshold %s \\t Score : %s' %(x,score[i]))\n",
    "    i=i+1\n",
    "plt.plot(np.linspace(0.5, 0.99, num=50),score)\n",
    "plt.show()\n",
    "\n",
    "# Play with the best threshold\n",
    "y_pred_train = predict(y_inter,threshold)\n",
    "score = compute_pred_score(y_test_split, y_pred_train)\n",
    "print('Score sur le train : %s' % score)\n",
    "end = time.clock()\n",
    "print \"Running Time: \",end-start"
   ]
  },
  {
   "cell_type": "code",
   "execution_count": 30,
   "metadata": {
    "collapsed": false
   },
   "outputs": [
    {
     "name": "stdout",
     "output_type": "stream",
     "text": [
      "Running Time:  2346.601565\n"
     ]
    }
   ],
   "source": [
    "import time\n",
    "start = time.clock()\n",
    "import xgboost as xgb\n",
    "from xgboost.sklearn import XGBClassifier\n",
    "clf = XGBClassifier(learning_rate =0.1,n_estimators=1000,max_depth=10,min_child_weight=1,gamma=0,subsample=0.8,\n",
    "                     colsample_bytree=0.8,objective= 'binary:logistic',nthread=4,scale_pos_weight=1,seed=27)\n",
    "clf.fit(X_train_pca, y_train_unique)\n",
    "y_inter = clf.predict_proba(X_test_pca)\n",
    "\n",
    "# Play with the best threshold\n",
    "y_pred = predict(y_inter,0.88)\n",
    "np.savetxt('y_pred_xgboost.txt', y_pred, fmt='%d')\n",
    "end = time.clock()\n",
    "print \"Running Time: \",end-start"
   ]
  },
  {
   "cell_type": "code",
   "execution_count": 22,
   "metadata": {
    "collapsed": false
   },
   "outputs": [
    {
     "name": "stdout",
     "output_type": "stream",
     "text": [
      "Running Time:  0.0333099999998\n"
     ]
    }
   ],
   "source": [
    "import time\n",
    "start = time.clock()\n",
    "y_pred = predict(y_inter,0.76)\n",
    "np.savetxt('y_pred_xgboost.txt', y_pred, fmt='%d')\n",
    "end = time.clock()\n",
    "print \"Running Time: \",end-start"
   ]
  },
  {
   "cell_type": "code",
   "execution_count": 34,
   "metadata": {
    "collapsed": false
   },
   "outputs": [
    {
     "data": {
      "text/plain": [
       "<matplotlib.axes._subplots.AxesSubplot at 0x127383110>"
      ]
     },
     "execution_count": 34,
     "metadata": {},
     "output_type": "execute_result"
    },
    {
     "data": {
      "image/png": "[encoded data removed]",
      "text/plain": [
       "<matplotlib.figure.Figure at 0x120490290>"
      ]
     },
     "metadata": {},
     "output_type": "display_data"
    }
   ],
   "source": [
    "from xgboost import plot_importance\n",
    "plot_importance(clf, max_num_features=28)"
   ]
  },
  {
   "cell_type": "code",
   "execution_count": 35,
   "metadata": {
    "collapsed": false
   },
   "outputs": [
    {
     "ename": "ImportError",
     "evalue": "No module named lightgbm",
     "output_type": "error",
     "traceback": [
      "\u001b[0;31m---------------------------------------------------------------------------\u001b[0m",
      "\u001b[0;31mImportError\u001b[0m                               Traceback (most recent call last)",
      "\u001b[0;32m<ipython-input-35-aa3fab231b8b>\u001b[0m in \u001b[0;36m<module>\u001b[0;34m()\u001b[0m\n\u001b[0;32m----> 1\u001b[0;31m \u001b[0;32mimport\u001b[0m \u001b[0mlightgbm\u001b[0m \u001b[0;32mas\u001b[0m \u001b[0mlgb\u001b[0m\u001b[0;34m\u001b[0m\u001b[0m\n\u001b[0m\u001b[1;32m      2\u001b[0m \u001b[0;32mfrom\u001b[0m \u001b[0mlightgbm\u001b[0m \u001b[0;32mimport\u001b[0m \u001b[0mplot_importance\u001b[0m\u001b[0;34m\u001b[0m\u001b[0m\n\u001b[1;32m      3\u001b[0m \u001b[0mplot_importance\u001b[0m\u001b[0;34m(\u001b[0m\u001b[0mclf\u001b[0m\u001b[0;34m,\u001b[0m \u001b[0mmax_num_features\u001b[0m\u001b[0;34m=\u001b[0m\u001b[0;36m28\u001b[0m\u001b[0;34m)\u001b[0m\u001b[0;34m\u001b[0m\u001b[0m\n",
      "\u001b[0;31mImportError\u001b[0m: No module named lightgbm"
     ]
    }
   ],
   "source": [
    "import lightgbm as lgb\n",
    "from lightgbm import plot_importance\n",
    "plot_importance(clf, max_num_features=28)"
   ]
  },
  {
   "cell_type": "code",
   "execution_count": null,
   "metadata": {
    "collapsed": true
   },
   "outputs": [],
   "source": []
  }
 ],
 "metadata": {
  "kernelspec": {
   "display_name": "Python 2",
   "language": "python",
   "name": "python2"
  },
  "language_info": {
   "codemirror_mode": {
    "name": "ipython",
    "version": 2
   },
   "file_extension": ".py",
   "mimetype": "text/x-python",
   "name": "python",
   "nbconvert_exporter": "python",
   "pygments_lexer": "ipython2",
   "version": "2.7.13"
  }
 },
 "nbformat": 4,
 "nbformat_minor": 2
}
